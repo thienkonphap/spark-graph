{
 "cells": [
  {
   "cell_type": "code",
   "execution_count": 0,
   "metadata": {
    "application/vnd.databricks.v1+cell": {
     "cellMetadata": {
      "byteLimit": 2048000,
      "rowLimit": 10000
     },
     "inputWidgets": {},
     "nuid": "ff8e9ff0-21a3-4846-a156-f811d10e4867",
     "showTitle": false,
     "title": ""
    }
   },
   "outputs": [
    {
     "output_type": "stream",
     "name": "stdout",
     "output_type": "stream",
     "text": [
      "Out[1]: [('A', 'B'), ('B', 'C'), ('B', 'D'), ('D', 'E'), ('F', 'G'), ('G', 'H')]"
     ]
    }
   ],
   "source": [
    "test_case_1 = sc.parallelize([(\"A\",\"B\"), (\"B\",\"C\"), (\"B\",\"D\"), (\"D\",\"E\"), (\"F\",\"G\"), (\"G\", \"H\")])\n",
    "test_case_1.collect()"
   ]
  },
  {
   "cell_type": "code",
   "execution_count": 0,
   "metadata": {
    "application/vnd.databricks.v1+cell": {
     "cellMetadata": {
      "byteLimit": 2048000,
      "rowLimit": 10000
     },
     "inputWidgets": {},
     "nuid": "189cbe11-8f08-4d63-8e01-0e7475c1f9cd",
     "showTitle": false,
     "title": ""
    }
   },
   "outputs": [],
   "source": [
    "#Algo 1\n",
    "def ccf_iterate(rdd, counter_pair):\n",
    "    # Map\n",
    "    rdd = rdd.map(lambda x: [(x[0], x[1]),(x[1], x[0])]).flatMap(lambda x: x)\n",
    "    rdd = rdd.reduceByKey(lambda x, y: x  + y).map(lambda x: (x[0], list(x[1])))\n",
    "\n",
    "    minEachKey = rdd.map(lambda x: (x[0], x[1], min(x[1]))).map(lambda x: (x[0], x[1], min(x[2], x[0])))\n",
    "    emit_1 = minEachKey.filter(lambda x: x[2] < x[0]).map(lambda x: (x[0], x[2]))\n",
    "    emit_2 = minEachKey.filter(lambda x: x[2] < x[0]).map(lambda x: (x[0], [y for y in x[1] if y != x[2]], x[2])) # remove min in valueList\n",
    "\n",
    "    counter_pair += emit_2.map(lambda x: len(x[1])).reduce(lambda x, y: x+ y) # Increase counter\n",
    "    emit_2 = emit_2.filter(lambda x: len(x[1]) != 0).map(lambda x: [(y, x[2]) for y in x[1]]).flatMap(lambda x: x)\n",
    "\n",
    "    emit = emit_1.union(emit_2)\n",
    "    # CCF-dedub\n",
    "    emit = emit.map(lambda x: (x, [])).reduceByKey(lambda x, y: x).map(lambda x: x[0])\n",
    "    return emit, counter_pair"
   ]
  },
  {
   "cell_type": "code",
   "execution_count": 0,
   "metadata": {
    "application/vnd.databricks.v1+cell": {
     "cellMetadata": {
      "byteLimit": 2048000,
      "rowLimit": 10000
     },
     "inputWidgets": {},
     "nuid": "8af3c5d1-3f77-4ff3-8d78-7886dd2ef697",
     "showTitle": false,
     "title": ""
    }
   },
   "outputs": [
    {
     "output_type": "stream",
     "name": "stdout",
     "output_type": "stream",
     "text": [
      "Out[3]: [('A', 'B'),\n ('B', 'A'),\n ('B', 'C'),\n ('C', 'B'),\n ('B', 'D'),\n ('D', 'B'),\n ('D', 'E'),\n ('E', 'D'),\n ('F', 'G'),\n ('G', 'F'),\n ('G', 'H'),\n ('H', 'G')]"
     ]
    }
   ],
   "source": [
    "a = test_case_1.map(lambda x: [(x[0], x[1]),(x[1], x[0])]).flatMap(lambda x: x)\n",
    "a.collect()"
   ]
  },
  {
   "cell_type": "code",
   "execution_count": 0,
   "metadata": {
    "application/vnd.databricks.v1+cell": {
     "cellMetadata": {
      "byteLimit": 2048000,
      "rowLimit": 10000
     },
     "inputWidgets": {},
     "nuid": "2f6bd52d-0c00-403e-9a9e-0179b9a206c3",
     "showTitle": false,
     "title": ""
    }
   },
   "outputs": [
    {
     "output_type": "stream",
     "name": "stdout",
     "output_type": "stream",
     "text": [
      "Out[4]: [('B', ['A', 'C', 'D']),\n ('H', ['G']),\n ('C', ['B']),\n ('A', ['B']),\n ('F', ['G']),\n ('D', ['B', 'E']),\n ('E', ['D']),\n ('G', ['F', 'H'])]"
     ]
    }
   ],
   "source": [
    "graph = a.reduceByKey(lambda x, y: x  + y).map(lambda x: (x[0], list(x[1])))\n",
    "graph.collect()"
   ]
  },
  {
   "cell_type": "code",
   "execution_count": 0,
   "metadata": {
    "application/vnd.databricks.v1+cell": {
     "cellMetadata": {
      "byteLimit": 2048000,
      "rowLimit": 10000
     },
     "inputWidgets": {},
     "nuid": "0c4db427-a846-439f-a095-180c8af16a1a",
     "showTitle": false,
     "title": ""
    }
   },
   "outputs": [
    {
     "output_type": "stream",
     "name": "stdout",
     "output_type": "stream",
     "text": [
      "Out[5]: [('B', ['A', 'C', 'D'], 'A'),\n ('H', ['G'], 'G'),\n ('C', ['B'], 'B'),\n ('A', ['B'], 'A'),\n ('F', ['G'], 'F'),\n ('D', ['B', 'E'], 'B'),\n ('E', ['D'], 'D'),\n ('G', ['F', 'H'], 'F')]"
     ]
    }
   ],
   "source": [
    "minEachKey = graph.map(lambda x: (x[0], x[1], min(x[1]))).map(lambda x: (x[0], x[1], min(x[2], x[0])))\n",
    "minEachKey.collect()"
   ]
  },
  {
   "cell_type": "code",
   "execution_count": 0,
   "metadata": {
    "application/vnd.databricks.v1+cell": {
     "cellMetadata": {
      "byteLimit": 2048000,
      "rowLimit": 10000
     },
     "inputWidgets": {},
     "nuid": "1e8049c5-b18b-4929-a7e8-b518ab387431",
     "showTitle": false,
     "title": ""
    }
   },
   "outputs": [
    {
     "output_type": "stream",
     "name": "stdout",
     "output_type": "stream",
     "text": [
      "Out[6]: [('B', 'A'), ('H', 'G'), ('C', 'B'), ('D', 'B'), ('E', 'D'), ('G', 'F')]"
     ]
    }
   ],
   "source": [
    "emit_1 = minEachKey.filter(lambda x: x[2] < x[0]).map(lambda x: (x[0], x[2]))\n",
    "emit_1.collect()"
   ]
  },
  {
   "cell_type": "code",
   "execution_count": 0,
   "metadata": {
    "application/vnd.databricks.v1+cell": {
     "cellMetadata": {
      "byteLimit": 2048000,
      "rowLimit": 10000
     },
     "inputWidgets": {},
     "nuid": "8fc9c95f-f096-4fbb-8f8a-3ce8bcf85a3e",
     "showTitle": false,
     "title": ""
    }
   },
   "outputs": [
    {
     "output_type": "stream",
     "name": "stdout",
     "output_type": "stream",
     "text": [
      "Out[37]: 4"
     ]
    }
   ],
   "source": [
    "tmp = minEachKey.filter(lambda x: x[2] < x[0]).map(lambda x: (x[0], [y for y in x[1] if y != x[2]], x[2]))\n",
    "emit_2 = minEachKey.filter(lambda x: x[2] < x[0]).map(lambda x: (x[0], [y for y in x[1] if y != x[2]], x[2])).filter(lambda x: len(x[1]) != 0).map(lambda x: [(y, x[2]) for y in x[1]]).flatMap(lambda x: x)\n",
    "tmp.map(lambda x: len(x[1])).reduce(lambda x, y: x+ y)"
   ]
  },
  {
   "cell_type": "code",
   "execution_count": 0,
   "metadata": {
    "application/vnd.databricks.v1+cell": {
     "cellMetadata": {
      "byteLimit": 2048000,
      "rowLimit": 10000
     },
     "inputWidgets": {},
     "nuid": "9deab6d0-4835-4543-89e1-83776ee1449f",
     "showTitle": false,
     "title": ""
    }
   },
   "outputs": [
    {
     "output_type": "stream",
     "name": "stdout",
     "output_type": "stream",
     "text": [
      "Out[10]: [('B', 'A'),\n ('H', 'G'),\n ('C', 'B'),\n ('D', 'B'),\n ('E', 'D'),\n ('G', 'F'),\n ('C', 'A'),\n ('D', 'A'),\n ('E', 'B'),\n ('H', 'F')]"
     ]
    }
   ],
   "source": [
    "emit = emit_1.union(emit_2)\n",
    "emit.collect()"
   ]
  },
  {
   "cell_type": "code",
   "execution_count": 0,
   "metadata": {
    "application/vnd.databricks.v1+cell": {
     "cellMetadata": {
      "byteLimit": 2048000,
      "rowLimit": 10000
     },
     "inputWidgets": {},
     "nuid": "be4a77bb-e1e3-4a73-9f8e-6b239141e849",
     "showTitle": false,
     "title": ""
    }
   },
   "outputs": [
    {
     "output_type": "stream",
     "name": "stdout",
     "output_type": "stream",
     "text": [
      "Out[28]: [('B', 'A'),\n ('H', 'F'),\n ('D', 'A'),\n ('C', 'A'),\n ('D', 'B'),\n ('E', 'B'),\n ('C', 'B'),\n ('G', 'F'),\n ('E', 'D'),\n ('H', 'G')]"
     ]
    }
   ],
   "source": [
    "emit.map(lambda x: (x, [])).reduceByKey(lambda x, y: x).map(lambda x: x[0]).collect()\n"
   ]
  },
  {
   "cell_type": "code",
   "execution_count": 0,
   "metadata": {
    "application/vnd.databricks.v1+cell": {
     "cellMetadata": {
      "byteLimit": 2048000,
      "rowLimit": 10000
     },
     "inputWidgets": {},
     "nuid": "5a116fd1-4166-4974-a278-55bc8c1c24d4",
     "showTitle": false,
     "title": ""
    }
   },
   "outputs": [
    {
     "output_type": "stream",
     "name": "stdout",
     "output_type": "stream",
     "text": [
      "[(8, 6), (8, 7), (2, 1), (3, 1), (3, 2), (5, 4), (4, 1), (5, 2), (4, 2), (7, 6)]\n"
     ]
    }
   ],
   "source": []
  },
  {
   "cell_type": "code",
   "execution_count": 0,
   "metadata": {
    "application/vnd.databricks.v1+cell": {
     "cellMetadata": {
      "byteLimit": 2048000,
      "rowLimit": 10000
     },
     "inputWidgets": {},
     "nuid": "66c82d5f-7e66-4556-9ab0-60ae4e21e460",
     "showTitle": false,
     "title": ""
    }
   },
   "outputs": [],
   "source": [
    "test_case_11 = sc.parallelize([(1,2), (2,3), (2,4), (4,5), (6,7), (7, 8)])"
   ]
  },
  {
   "cell_type": "code",
   "execution_count": 0,
   "metadata": {
    "application/vnd.databricks.v1+cell": {
     "cellMetadata": {
      "byteLimit": 2048000,
      "rowLimit": 10000
     },
     "inputWidgets": {},
     "nuid": "be32929d-30eb-4e51-9c65-b60d2d247fab",
     "showTitle": false,
     "title": ""
    }
   },
   "outputs": [],
   "source": [
    "new_pairs = 0\n",
    "def CFF_iterate(rdd):\n",
    "    rdd_inv = rdd.map(lambda x: (x[1], x[0])) \n",
    "    graph = rdd.union(rdd_inv) # emit pairs\n",
    "    graph = graph.groupByKey().mapValues(list).partitionBy(100).cache() # group by key and get values as a list\n",
    "    graph = graph.map(lambda x: (int(x[0]), list(map(int, x[1])))) # Convert string to integer\n",
    "    graph = graph.map(lambda x: (x[0], x[1], min(x[1]))) # extract min\n",
    "    graph = graph.filter(lambda x: x[0] > x[2]) # filter out vid < amin\n",
    "    graph = graph.map(lambda x: (x[0], [val for val in x[1] if val != x[2]], x[2])) # remove min from list\n",
    "    \n",
    "    new_pairs = graph.map(lambda x: len(x[1])).sum()  # get number of new pairs created\n",
    "\n",
    "    emit_1 = graph.map(lambda x: (x[0], x[2]))\n",
    "    emit_2 = graph.flatMap(lambda x: [(val, x[2]) for val in x[1]])\n",
    "    emit_tot = emit_1.union(emit_2) # return all pairs (CFF-Dedup)\n",
    "    \n",
    "    new = emit_tot.map(lambda x: ((x[0], x[1]), [])) \n",
    "    new = new.groupByKey().mapValues(list)\n",
    "    new = new.map(lambda x: (x[0][0], x[0][1]))\n",
    "    return new, new_pairs"
   ]
  },
  {
   "cell_type": "code",
   "execution_count": 0,
   "metadata": {
    "application/vnd.databricks.v1+cell": {
     "cellMetadata": {
      "byteLimit": 2048000,
      "rowLimit": 10000
     },
     "inputWidgets": {},
     "nuid": "2d69a584-7fb8-402a-af6d-5c8752f715b2",
     "showTitle": false,
     "title": ""
    }
   },
   "outputs": [
    {
     "output_type": "stream",
     "name": "stdout",
     "output_type": "stream",
     "text": [
      "Out[15]: [(8, 6),\n (8, 7),\n (2, 1),\n (3, 1),\n (3, 2),\n (5, 4),\n (4, 1),\n (5, 2),\n (4, 2),\n (7, 6)]"
     ]
    }
   ],
   "source": [
    "CFF_iterate(test_case_11)[0].collect()"
   ]
  },
  {
   "cell_type": "code",
   "execution_count": 0,
   "metadata": {
    "application/vnd.databricks.v1+cell": {
     "cellMetadata": {
      "byteLimit": 2048000,
      "rowLimit": 10000
     },
     "inputWidgets": {},
     "nuid": "43f2a1c6-ea4c-48b6-9bf2-4663125ce04b",
     "showTitle": false,
     "title": ""
    }
   },
   "outputs": [],
   "source": [
    "test_case_2 = sc.parallelize([(1,2), (2,3), (2,4), (4,5), (6,7), (7, 8), (1, 2)])"
   ]
  },
  {
   "cell_type": "code",
   "execution_count": 0,
   "metadata": {
    "application/vnd.databricks.v1+cell": {
     "cellMetadata": {
      "byteLimit": 2048000,
      "rowLimit": 10000
     },
     "inputWidgets": {},
     "nuid": "7798f0e1-2bb2-4825-b681-fb993f05ec4b",
     "showTitle": false,
     "title": ""
    }
   },
   "outputs": [
    {
     "output_type": "stream",
     "name": "stdout",
     "output_type": "stream",
     "text": [
      "Out[26]: [((1, 2), []),\n ((4, 5), []),\n ((2, 4), []),\n ((2, 3), []),\n ((6, 7), []),\n ((7, 8), [])]"
     ]
    }
   ],
   "source": [
    "test_case_2.map(lambda x: (x, [])).reduceByKey(lambda x, y: x).collect()"
   ]
  },
  {
   "cell_type": "code",
   "execution_count": 0,
   "metadata": {
    "application/vnd.databricks.v1+cell": {
     "cellMetadata": {
      "byteLimit": 2048000,
      "rowLimit": 10000
     },
     "inputWidgets": {},
     "nuid": "ad0d3af9-138e-4d76-bc37-93438e64bcd1",
     "showTitle": false,
     "title": ""
    }
   },
   "outputs": [
    {
     "output_type": "stream",
     "name": "stdout",
     "output_type": "stream",
     "text": [
      "Out[40]: [('B', 'A'),\n ('H', 'F'),\n ('D', 'A'),\n ('C', 'A'),\n ('D', 'B'),\n ('E', 'B'),\n ('C', 'B'),\n ('G', 'F'),\n ('E', 'D'),\n ('H', 'G')]"
     ]
    }
   ],
   "source": [
    "res = ccf_iterate(test_case_1, 0)\n",
    "res[0].collect()"
   ]
  },
  {
   "cell_type": "code",
   "execution_count": 0,
   "metadata": {
    "application/vnd.databricks.v1+cell": {
     "cellMetadata": {
      "byteLimit": 2048000,
      "rowLimit": 10000
     },
     "inputWidgets": {},
     "nuid": "46f9c08e-ff01-4981-a67d-ce106eb6ed29",
     "showTitle": false,
     "title": ""
    }
   },
   "outputs": [
    {
     "output_type": "stream",
     "name": "stdout",
     "output_type": "stream",
     "text": [
      "Out[41]: 4"
     ]
    }
   ],
   "source": [
    "res[1]"
   ]
  },
  {
   "cell_type": "code",
   "execution_count": 0,
   "metadata": {
    "application/vnd.databricks.v1+cell": {
     "cellMetadata": {
      "byteLimit": 2048000,
      "rowLimit": 10000
     },
     "inputWidgets": {},
     "nuid": "8f4da3c1-5b0f-4e44-ac7f-1f042187851a",
     "showTitle": false,
     "title": ""
    }
   },
   "outputs": [
    {
     "output_type": "stream",
     "name": "stdout",
     "output_type": "stream",
     "text": [
      "new_pair =  4\nnew_pair =  9\nnew_pair =  4\nnew_pair =  0\n"
     ]
    }
   ],
   "source": [
    "#main\n",
    "new_pair = 1\n",
    "rdd = test_case_1\n",
    "while (new_pair > 0):\n",
    "    rdd, new_pair = ccf_iterate(rdd, 0)\n",
    "    print(\"new_pair = \", new_pair)\n"
   ]
  },
  {
   "cell_type": "code",
   "execution_count": 0,
   "metadata": {
    "application/vnd.databricks.v1+cell": {
     "cellMetadata": {
      "byteLimit": 2048000,
      "rowLimit": 10000
     },
     "inputWidgets": {},
     "nuid": "2083e034-cbb4-4f24-a368-458535d801d9",
     "showTitle": false,
     "title": ""
    }
   },
   "outputs": [
    {
     "output_type": "stream",
     "name": "stdout",
     "output_type": "stream",
     "text": [
      "Out[46]: [('D', 'A'), ('E', 'A'), ('H', 'F'), ('G', 'F'), ('B', 'A'), ('C', 'A')]"
     ]
    }
   ],
   "source": [
    "rdd.collect()"
   ]
  },
  {
   "cell_type": "code",
   "execution_count": 0,
   "metadata": {
    "application/vnd.databricks.v1+cell": {
     "cellMetadata": {},
     "inputWidgets": {},
     "nuid": "ca0b92ba-28be-44eb-ab70-6ab80b2c373b",
     "showTitle": false,
     "title": ""
    }
   },
   "outputs": [],
   "source": []
  }
 ],
 "metadata": {
  "application/vnd.databricks.v1+notebook": {
   "dashboards": [],
   "language": "python",
   "notebookMetadata": {
    "pythonIndentUnit": 4
   },
   "notebookName": "Project CCF",
   "widgets": {}
  }
 },
 "nbformat": 4,
 "nbformat_minor": 0
}
